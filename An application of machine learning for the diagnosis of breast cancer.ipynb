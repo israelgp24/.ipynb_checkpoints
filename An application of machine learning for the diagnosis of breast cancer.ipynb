{
 "cells": [
  {
   "cell_type": "markdown",
   "metadata": {},
   "source": [
    "# An application of machine learning for the diagnosis of breast cancer\n",
    "\n",
    "Welcome to our first turorial in jupyter, in which you will see the analysis of breast cancer data extracted from the sklearn.datasetslibrary,through different type of modeling, such as:\n",
    "\n",
    "- decision tree \n",
    "- nayves bayes\n",
    "- SVM (Support vector machine)\n",
    "- Random forest\n",
    "\n",
    "### 1 - Packages"
   ]
  },
  {
   "cell_type": "code",
   "execution_count": 50,
   "metadata": {},
   "outputs": [],
   "source": [
    "#Load the library with the breast cancer dataset\n",
    "from sklearn.datasets import load_breast_cancer\n",
    "\n",
    "# Load pandas\n",
    "import pandas as pd\n",
    "# Load numpy\n",
    "import numpy as np\n",
    "\n",
    "import matplotlib.pyplot as plt"
   ]
  },
  {
   "cell_type": "markdown",
   "metadata": {},
   "source": [
    "### 2 - Overview of the data set"
   ]
  },
  {
   "cell_type": "code",
   "execution_count": 51,
   "metadata": {},
   "outputs": [],
   "source": [
    "# Asiganar un random seed\n",
    "np.random.seed(0)\n",
    "# Creas un objeto llamado cancer \n",
    "cancer=load_breast_cancer()\n",
    "# Creas una dataframe con 30 feature variables\n",
    "df = pd.DataFrame(cancer.data, columns=cancer.feature_names)"
   ]
  },
  {
   "cell_type": "markdown",
   "metadata": {},
   "source": [
    "### 3 - Separate the data "
   ]
  },
  {
   "cell_type": "code",
   "execution_count": 52,
   "metadata": {},
   "outputs": [
    {
     "name": "stdout",
     "output_type": "stream",
     "text": [
      "Number of observations in the training data: 435\n",
      "Number of observations in the test data: 134\n"
     ]
    }
   ],
   "source": [
    "# Agregamos una nueva columna con the species names,Esto es lo que intentaremos predecir\n",
    "df['species'] = pd.Categorical.from_codes(cancer.target, cancer.target_names)\n",
    "\n",
    "\n",
    "# separamos la data.\n",
    "df['is_train'] = np.random.uniform(0, 1, len(df)) <= .75\n",
    "\n",
    "\n",
    "\n",
    "# Creamos 2 nuevas dataframe , una con the training rows, otra con the test rows\n",
    "train, test = df[df['is_train']==True], df[df['is_train']==False]\n",
    "\n",
    "\n",
    "# Mostramos los nuemros de observaciones para the test y training dataframes\n",
    "print('Number of observations in the training data:', len(train))\n",
    "print('Number of observations in the test data:',len(test))\n",
    "\n",
    "# Creamos una lista de the feature column's names\n",
    "features = df.columns[:30]      \n",
    "\n",
    "\n",
    "y = pd.factorize(train['species'])[0]\n",
    "y_test = pd.factorize(test['species'])[0]"
   ]
  },
  {
   "cell_type": "markdown",
   "metadata": {},
   "source": [
    "### 4 - Using a decision tree "
   ]
  },
  {
   "cell_type": "markdown",
   "metadata": {},
   "source": [
    "#### 4.1 - Import tree classifier library"
   ]
  },
  {
   "cell_type": "code",
   "execution_count": 53,
   "metadata": {},
   "outputs": [],
   "source": [
    "#from sklearn.ensemble import tree classifier library\n",
    "from sklearn import tree"
   ]
  },
  {
   "cell_type": "markdown",
   "metadata": {},
   "source": [
    "#### 4.2 - Create a DecisionTree and train it"
   ]
  },
  {
   "cell_type": "code",
   "execution_count": 54,
   "metadata": {},
   "outputs": [
    {
     "name": "stdout",
     "output_type": "stream",
     "text": [
      "0.9104477611940298\n",
      "['malignant' 'malignant' 'malignant' 'malignant' 'malignant']\n",
      "7     malignant\n",
      "8     malignant\n",
      "10    malignant\n",
      "13    malignant\n",
      "17    malignant\n",
      "Name: species, dtype: category\n",
      "Categories (2, object): [malignant, benign]\n"
     ]
    }
   ],
   "source": [
    "# Create a DecisionTree\n",
    "\n",
    "clf=tree.DecisionTreeClassifier()\n",
    "# Train the Classifier to take the training features and learn how they relate\n",
    "# to the training y (the species)\n",
    "clf.fit(train[features], y)\n",
    "\n",
    "predic=clf.predict(test[features])\n",
    "error=clf.score(test[features],y_test,sample_weight=None)\n",
    "print(error)\n",
    "#print(clf.predict(test[features]))\n",
    "\n",
    "predict_porcentaje=clf.predict_proba(test[features])[0:50] \n",
    "\n",
    "#print(clf.predict_proba(test[features])[0:50] )\n",
    "\n",
    "preds = cancer.target_names[clf.predict(test[features])]\n",
    "\n",
    "print(preds[0:5])\n",
    "\n",
    "print(test['species'].head())"
   ]
  },
  {
   "cell_type": "markdown",
   "metadata": {},
   "source": [
    "#### 4.3 - Create confusion matrix"
   ]
  },
  {
   "cell_type": "code",
   "execution_count": 55,
   "metadata": {},
   "outputs": [
    {
     "name": "stdout",
     "output_type": "stream",
     "text": [
      "Predicted Species  benign  malignant\n",
      "Actual Species                      \n",
      "malignant               5         43\n",
      "benign                 79          7\n"
     ]
    }
   ],
   "source": [
    "\n",
    "matrix=pd.crosstab(test['species'], preds, rownames=['Actual Species'], colnames=['Predicted Species'])\n",
    "\n",
    "print(matrix)"
   ]
  },
  {
   "cell_type": "markdown",
   "metadata": {},
   "source": [
    "### 5 -  Using a naive bayes"
   ]
  },
  {
   "cell_type": "markdown",
   "metadata": {},
   "source": [
    "#### 5.1 - Import naive bayes library"
   ]
  },
  {
   "cell_type": "code",
   "execution_count": 56,
   "metadata": {},
   "outputs": [],
   "source": [
    "#from sklearn import naive bayes\n",
    "from sklearn.naive_bayes import GaussianNB\n"
   ]
  },
  {
   "cell_type": "markdown",
   "metadata": {},
   "source": [
    "#### 5.2 - Create a naive bayes and train it"
   ]
  },
  {
   "cell_type": "code",
   "execution_count": 57,
   "metadata": {},
   "outputs": [
    {
     "name": "stdout",
     "output_type": "stream",
     "text": [
      "0.9402985074626866\n",
      "['malignant' 'malignant' 'malignant' 'benign' 'malignant']\n",
      "7     malignant\n",
      "8     malignant\n",
      "10    malignant\n",
      "13    malignant\n",
      "17    malignant\n",
      "Name: species, dtype: category\n",
      "Categories (2, object): [malignant, benign]\n"
     ]
    }
   ],
   "source": [
    "#Creamos un Gaussiano\n",
    "clf=GaussianNB()\n",
    "\n",
    "# Train the Classifier to take the training features and learn how they relate\n",
    "# to the training y (the species)\n",
    "clf.fit(train[features], y)\n",
    "\n",
    "predic=clf.predict(test[features])\n",
    "error=clf.score(test[features],y_test,sample_weight=None)\n",
    "print(error)\n",
    "#print(clf.predict(test[features]))\n",
    "\n",
    "predict_porcentaje=clf.predict_proba(test[features])[0:50] \n",
    "\n",
    "#print(clf.predict_proba(test[features])[0:50] )\n",
    "\n",
    "preds = cancer.target_names[clf.predict(test[features])]\n",
    "\n",
    "print(preds[0:5])\n",
    "\n",
    "print(test['species'].head())"
   ]
  },
  {
   "cell_type": "markdown",
   "metadata": {},
   "source": [
    "#### 5.3 - Create confusion matrix"
   ]
  },
  {
   "cell_type": "code",
   "execution_count": 58,
   "metadata": {},
   "outputs": [
    {
     "name": "stdout",
     "output_type": "stream",
     "text": [
      "Predicted Species  benign  malignant\n",
      "Actual Species                      \n",
      "malignant               5         43\n",
      "benign                 83          3\n"
     ]
    }
   ],
   "source": [
    " # Create confusion matrix\n",
    "matrix=pd.crosstab(test['species'], preds, rownames=['Actual Species'], colnames=['Predicted Species'])\n",
    "print(matrix)"
   ]
  },
  {
   "cell_type": "markdown",
   "metadata": {},
   "source": [
    "### 6 -  Using a Support Vector Machine"
   ]
  },
  {
   "cell_type": "markdown",
   "metadata": {},
   "source": [
    "#### 6.1 - Import  SVM"
   ]
  },
  {
   "cell_type": "code",
   "execution_count": 59,
   "metadata": {},
   "outputs": [],
   "source": [
    "#De sklearn importamos svm\n",
    "from sklearn import svm\n"
   ]
  },
  {
   "cell_type": "markdown",
   "metadata": {},
   "source": [
    "#### 6.2 - Create a SVM and train it"
   ]
  },
  {
   "cell_type": "code",
   "execution_count": 60,
   "metadata": {},
   "outputs": [
    {
     "name": "stdout",
     "output_type": "stream",
     "text": [
      "0.9626865671641791\n",
      "['malignant' 'malignant' 'malignant' 'benign' 'malignant']\n",
      "7     malignant\n",
      "8     malignant\n",
      "10    malignant\n",
      "13    malignant\n",
      "17    malignant\n",
      "Name: species, dtype: category\n",
      "Categories (2, object): [malignant, benign]\n"
     ]
    }
   ],
   "source": [
    "# Create a SVM\n",
    "clf=svm.SVC(C=1,kernel='linear')\n",
    "\n",
    "\n",
    "# Train the Classifier to take the training features and learn how they relate\n",
    "\n",
    "# PREDECIR SOLO 2 ATRIBUTOS\n",
    "#features=[\"worst perimeter\",\"mean concave points\"]\n",
    "clf.fit(train[features], y)\n",
    "\n",
    "predic=clf.predict(test[features])\n",
    "error=clf.score(test[features],y_test,sample_weight=None)\n",
    "print(error)\n",
    "\n",
    "\n",
    "preds = cancer.target_names[clf.predict(test[features])]\n",
    "\n",
    "print(preds[0:5])\n",
    "\n",
    "print(test['species'].head())\n"
   ]
  },
  {
   "cell_type": "markdown",
   "metadata": {},
   "source": [
    "#### 6.3 - Create confusion matrix"
   ]
  },
  {
   "cell_type": "code",
   "execution_count": 61,
   "metadata": {},
   "outputs": [
    {
     "name": "stdout",
     "output_type": "stream",
     "text": [
      "Predicted Species  benign  malignant\n",
      "Actual Species                      \n",
      "malignant               5         43\n",
      "benign                 86          0\n"
     ]
    }
   ],
   "source": [
    "# Create confusion matrix\n",
    "matrix=pd.crosstab(test['species'], preds, rownames=['Actual Species'], colnames=['Predicted Species'])\n",
    "print(matrix)"
   ]
  },
  {
   "cell_type": "markdown",
   "metadata": {},
   "source": [
    "### 7 -  Using Random Forest"
   ]
  },
  {
   "cell_type": "markdown",
   "metadata": {},
   "source": [
    "#### 7.1 - Import  RandomForestClassifier"
   ]
  },
  {
   "cell_type": "code",
   "execution_count": 62,
   "metadata": {},
   "outputs": [],
   "source": [
    "#from sklearn.ensemble import RandomForestClassifier \n",
    "from sklearn.ensemble import RandomForestClassifier"
   ]
  },
  {
   "cell_type": "markdown",
   "metadata": {},
   "source": [
    "#### 7.2 - Create a random forest Classifier and train it"
   ]
  },
  {
   "cell_type": "code",
   "execution_count": 63,
   "metadata": {},
   "outputs": [
    {
     "name": "stdout",
     "output_type": "stream",
     "text": [
      "0.9552238805970149\n",
      "['malignant' 'malignant' 'malignant' 'malignant' 'malignant']\n",
      "7     malignant\n",
      "8     malignant\n",
      "10    malignant\n",
      "13    malignant\n",
      "17    malignant\n",
      "Name: species, dtype: category\n",
      "Categories (2, object): [malignant, benign]\n"
     ]
    }
   ],
   "source": [
    "# Creamos un random forest Classifier. By convention, clf means 'Classifier'\n",
    "clf = RandomForestClassifier(n_jobs=2, random_state=0,n_estimators=600)\n",
    "\n",
    "# Train the Classifier to take the training features and learn how they relate\n",
    "# to the training y (the species)\n",
    "\n",
    "#features=[\"worst perimeter\",\"mean concave points\"]\n",
    "clf.fit(train[features], y)\n",
    "\n",
    "predic=clf.predict(test[features])\n",
    "error=clf.score(test[features],y_test,sample_weight=None)\n",
    "print(error)\n",
    "#print(clf.predict(test[features]))\n",
    "\n",
    "predict_porcentaje=clf.predict_proba(test[features])[0:50] \n",
    "\n",
    "#print(clf.predict_proba(test[features])[0:50] )\n",
    "\n",
    "preds = cancer.target_names[clf.predict(test[features])]\n",
    "\n",
    "print(preds[0:5])\n",
    "\n",
    "print(test['species'].head())"
   ]
  },
  {
   "cell_type": "markdown",
   "metadata": {},
   "source": [
    "#### 7.3 - Create confusion matrix"
   ]
  },
  {
   "cell_type": "code",
   "execution_count": 64,
   "metadata": {},
   "outputs": [
    {
     "name": "stdout",
     "output_type": "stream",
     "text": [
      "Predicted Species  benign  malignant\n",
      "Actual Species                      \n",
      "malignant               4         44\n",
      "benign                 84          2\n"
     ]
    }
   ],
   "source": [
    "# Creamos una matrix de confusión\n",
    "matrix=pd.crosstab(test['species'], preds, rownames=['Actual Species'], colnames=['Predicted Species'])\n",
    "\n",
    "print(matrix)"
   ]
  },
  {
   "cell_type": "markdown",
   "metadata": {},
   "source": [
    "We can see that the highest precision was obtained with the support vector machine\n",
    "\n",
    "Precision:\n",
    "\n",
    "- decision tree :0.91\n",
    "- nayves bayes :0.94\n",
    "- SVM (Support vector machine) :0.9626\n",
    "- Random forest :0.955\n",
    "\n"
   ]
  },
  {
   "cell_type": "markdown",
   "metadata": {},
   "source": [
    "### 8 - Looking for important features\n",
    "\n",
    "After analyzing the precisions of each model, we look for which variables influence more when making the prediction."
   ]
  },
  {
   "cell_type": "code",
   "execution_count": 65,
   "metadata": {},
   "outputs": [
    {
     "data": {
      "image/png": "[encoded data removed]",
      "text/plain": [
       "<matplotlib.figure.Figure at 0x88d36b5d30>"
      ]
     },
     "metadata": {},
     "output_type": "display_data"
    }
   ],
   "source": [
    "\n",
    "# View a list of the features and their importance scores\n",
    "importance= list(zip(train[features], clf.feature_importances_))\n",
    "\n",
    "#print(importance)\n",
    "\n",
    "n_features = cancer.data.shape[1]\n",
    "plt.barh(range(n_features), clf.feature_importances_, align='center')\n",
    "plt.yticks(np.arange(n_features), cancer.feature_names)\n",
    "plt.xlabel('Feature Importance')\n",
    "plt.ylabel('Feature')\n",
    "plt.show()"
   ]
  },
  {
   "cell_type": "markdown",
   "metadata": {},
   "source": [
    "### 9 - Analyzing data with these 2 features and using SVM"
   ]
  },
  {
   "cell_type": "code",
   "execution_count": 66,
   "metadata": {},
   "outputs": [
    {
     "data": {
      "image/png": "[encoded data removed]",
      "text/plain": [
       "<matplotlib.figure.Figure at 0x88d1594f98>"
      ]
     },
     "metadata": {},
     "output_type": "display_data"
    }
   ],
   "source": [
    "def make_meshgrid(x, y, h=.02):\n",
    "   \n",
    "    x_min, x_max = x.min() - 1, x.max() + 1\n",
    "    y_min, y_max = y.min() - 1, y.max() + 1\n",
    "    xx, yy = np.meshgrid(np.arange(x_min, x_max, h),\n",
    "                         np.arange(y_min, y_max, h))\n",
    "    return xx, yy\n",
    "\n",
    "\n",
    "def plot_contours(ax, clf, xx, yy, **params):\n",
    "    \n",
    "    Z = clf.predict(np.c_[xx.ravel(), yy.ravel()])\n",
    "    Z = Z.reshape(xx.shape)\n",
    "    out = ax.contourf(xx, yy, Z, **params)\n",
    "    return out\n",
    "\n",
    "import csv\n",
    " \n",
    "X = cancer.data[:,(7,22)]\n",
    "y = cancer.target\n",
    "\n",
    "# we create an instance of SVM and fit out data. We do not scale our\n",
    "# data since we want to plot the support vectors\n",
    "\n",
    "C = 1.0  # SVM regularization parameter\n",
    "models = (svm.SVC(kernel='linear', C=1),\n",
    "          svm.LinearSVC(C=C),\n",
    "          svm.SVC(kernel='rbf', gamma=0.7, C=1),\n",
    "          svm.SVC(kernel='poly', degree=3, C=1))\n",
    "models = (clf.fit(X, y) for clf in models)\n",
    "\n",
    "# title for the plots\n",
    "titles = ('SVC with linear kernel',\n",
    "          'LinearSVC (linear kernel)',\n",
    "          'SVC with RBF kernel',\n",
    "          'SVC with polynomial (degree 3) kernel')\n",
    "\n",
    "# Set-up 2x2 grid for plotting.\n",
    "fig, sub = plt.subplots(2, 2)\n",
    "plt.subplots_adjust(wspace=0.4, hspace=0.4)\n",
    "\n",
    "X0, X1 = X[:, 0], X[:, 1]\n",
    "xx, yy = make_meshgrid(X0, X1)\n",
    "\n",
    "for clf, title, ax in zip(models, titles, sub.flatten()):\n",
    "    plot_contours(ax, clf, xx, yy,\n",
    "                  cmap=plt.cm.coolwarm, alpha=0.8)\n",
    "    ax.scatter(X0, X1, c=y, cmap=plt.cm.coolwarm, s=20, edgecolors='k')\n",
    "    ax.set_xlim(xx.min(), xx.max())\n",
    "    ax.set_ylim(yy.min(), yy.max())\n",
    "    ax.set_xlabel(\"mean concave points\")\n",
    "    ax.set_ylabel(\"worst perimeter\")\n",
    "    ax.set_xticks(())\n",
    "    ax.set_yticks(())\n",
    "    ax.set_title(title)\n",
    "\n",
    "plt.show()"
   ]
  },
  {
   "cell_type": "markdown",
   "metadata": {},
   "source": [
    "# THANKS !!!"
   ]
  },
  {
   "cell_type": "code",
   "execution_count": null,
   "metadata": {},
   "outputs": [],
   "source": []
  }
 ],
 "metadata": {
  "kernelspec": {
   "display_name": "Python 3",
   "language": "python",
   "name": "python3"
  },
  "language_info": {
   "codemirror_mode": {
    "name": "ipython",
    "version": 3
   },
   "file_extension": ".py",
   "mimetype": "text/x-python",
   "name": "python",
   "nbconvert_exporter": "python",
   "pygments_lexer": "ipython3",
   "version": "3.6.4"
  }
 },
 "nbformat": 4,
 "nbformat_minor": 2
}
